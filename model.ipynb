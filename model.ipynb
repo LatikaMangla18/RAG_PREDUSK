{
 "cells": [
  {
   "cell_type": "markdown",
   "id": "cb2c2d41",
   "metadata": {},
   "source": [
    "# Chunking Function"
   ]
  },
  {
   "cell_type": "code",
   "execution_count": 1,
   "id": "e91366d9",
   "metadata": {},
   "outputs": [
    {
     "name": "stderr",
     "output_type": "stream",
     "text": [
      "[nltk_data] Downloading package punkt to\n",
      "[nltk_data]     C:\\Users\\latik\\AppData\\Roaming\\nltk_data...\n",
      "[nltk_data]   Unzipping tokenizers\\punkt.zip.\n"
     ]
    }
   ],
   "source": [
    "import nltk\n",
    "from nltk.tokenize import word_tokenize\n",
    "\n",
    "nltk.download(\"punkt\")\n",
    "\n",
    "def chunk_text(text, chunk_size=500, overlap=50):\n",
    "    tokens = word_tokenize(text)\n",
    "    chunks = []\n",
    "    start = 0\n",
    "    while start < len(tokens):\n",
    "        end = min(start + chunk_size, len(tokens))\n",
    "        chunk = tokens[start:end]\n",
    "        chunks.append(\" \".join(chunk))\n",
    "        start += chunk_size - overlap\n",
    "    return chunks\n"
   ]
  },
  {
   "cell_type": "markdown",
   "id": "70e1ec6d",
   "metadata": {},
   "source": [
    "# Embedding with BAAI/bge-small-en"
   ]
  },
  {
   "cell_type": "code",
   "execution_count": 2,
   "id": "79c25702",
   "metadata": {},
   "outputs": [
    {
     "name": "stderr",
     "output_type": "stream",
     "text": [
      "c:\\Users\\latik\\AppData\\Local\\Programs\\Python\\Python310\\lib\\site-packages\\tqdm\\auto.py:21: TqdmWarning: IProgress not found. Please update jupyter and ipywidgets. See https://ipywidgets.readthedocs.io/en/stable/user_install.html\n",
      "  from .autonotebook import tqdm as notebook_tqdm\n",
      "c:\\Users\\latik\\AppData\\Local\\Programs\\Python\\Python310\\lib\\site-packages\\huggingface_hub\\file_download.py:143: UserWarning: `huggingface_hub` cache-system uses symlinks by default to efficiently store duplicated files but your machine does not support them in C:\\Users\\latik\\.cache\\huggingface\\hub\\models--BAAI--bge-small-en. Caching files will still work but in a degraded version that might require more space on your disk. This warning can be disabled by setting the `HF_HUB_DISABLE_SYMLINKS_WARNING` environment variable. For more details, see https://huggingface.co/docs/huggingface_hub/how-to-cache#limitations.\n",
      "To support symlinks on Windows, you either need to activate Developer Mode or to run Python as an administrator. In order to activate developer mode, see this article: https://docs.microsoft.com/en-us/windows/apps/get-started/enable-your-device-for-development\n",
      "  warnings.warn(message)\n",
      "Xet Storage is enabled for this repo, but the 'hf_xet' package is not installed. Falling back to regular HTTP download. For better performance, install the package with: `pip install huggingface_hub[hf_xet]` or `pip install hf_xet`\n"
     ]
    }
   ],
   "source": [
    "from sentence_transformers import SentenceTransformer\n",
    "\n",
    "# Load the model once\n",
    "embed_model = SentenceTransformer(\"BAAI/bge-small-en\")\n",
    "\n",
    "def get_embeddings(chunks):\n",
    "    return embed_model.encode(chunks, convert_to_numpy=True).tolist()"
   ]
  },
  {
   "cell_type": "markdown",
   "id": "ea008908",
   "metadata": {},
   "source": [
    "# Prepare Metadata Schema"
   ]
  },
  {
   "cell_type": "code",
   "execution_count": 3,
   "id": "232beddd",
   "metadata": {},
   "outputs": [],
   "source": [
    "def prepare_upsert_items(chunks, embeddings, doc_id, source, section):\n",
    "    items = []\n",
    "    for i, (chunk, emb) in enumerate(zip(chunks, embeddings)):\n",
    "        items.append({\n",
    "            \"id\": f\"{doc_id}_{i}\",\n",
    "            \"vector\": emb,\n",
    "            \"metadata\": {\n",
    "                \"doc_id\": doc_id,\n",
    "                \"source\": source,\n",
    "                \"section\": section,\n",
    "                \"position\": i\n",
    "            },\n",
    "            \"text\": chunk   # keep raw text for retrieval\n",
    "        })\n",
    "    return items\n"
   ]
  },
  {
   "cell_type": "code",
   "execution_count": null,
   "id": "d7262a4e",
   "metadata": {},
   "outputs": [],
   "source": []
  }
 ],
 "metadata": {
  "kernelspec": {
   "display_name": "Python 3",
   "language": "python",
   "name": "python3"
  },
  "language_info": {
   "codemirror_mode": {
    "name": "ipython",
    "version": 3
   },
   "file_extension": ".py",
   "mimetype": "text/x-python",
   "name": "python",
   "nbconvert_exporter": "python",
   "pygments_lexer": "ipython3",
   "version": "3.10.11"
  }
 },
 "nbformat": 4,
 "nbformat_minor": 5
}
